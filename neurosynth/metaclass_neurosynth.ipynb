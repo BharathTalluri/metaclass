{
 "cells": [
  {
   "cell_type": "code",
   "execution_count": 1,
   "metadata": {},
   "outputs": [
    {
     "data": {
      "text/plain": [
       "(91, 109, 91)"
      ]
     },
     "execution_count": 1,
     "metadata": {},
     "output_type": "execute_result"
    }
   ],
   "source": [
    "# Select data and directories structure.\n",
    "import os\n",
    "import glob\n",
    "import numpy as np\n",
    "import pandas as pd\n",
    "import nibabel as nib\n",
    "from nibabel.testing import data_path\n",
    "file = os.path.join(nib.testing.data_path, '/Users/julioyanes/Desktop/scratch/tmind.nii')\n",
    "img = nib.load(file)\n",
    "img.shape"
   ]
  },
  {
   "cell_type": "code",
   "execution_count": 2,
   "metadata": {},
   "outputs": [
    {
     "name": "stdout",
     "output_type": "stream",
     "text": [
      "features = 902629\n",
      "[0. 0. 0. ... 0. 0. 0.]\n",
      "max value = 15.146350628850822\n"
     ]
    }
   ],
   "source": [
    "# 3-deminsional array to 1-dimensional array.\n",
    "img_array = np.asarray(np.ravel(img.get_data(), order='C').T)\n",
    "print('features = {0}'.format(len(img_array)))\n",
    "print(img_array)\n",
    "print('max value = {0}'.format(np.amax(img_array)))"
   ]
  },
  {
   "cell_type": "code",
   "execution_count": 3,
   "metadata": {},
   "outputs": [
    {
     "name": "stdout",
     "output_type": "stream",
     "text": [
      "features = 902629\n",
      "[0. 0. 0. ... 0. 0. 0.]\n",
      "max value = 1.0\n"
     ]
    }
   ],
   "source": [
    "# Min/max scale array.\n",
    "img_array_mms = np.asarray(img_array/np.amax(img_array))\n",
    "print('features = {0}'.format(len(img_array_mms)))\n",
    "print(img_array_mms)\n",
    "print('max value = {0}'.format(np.amax(img_array_mms)))"
   ]
  },
  {
   "cell_type": "code",
   "execution_count": 4,
   "metadata": {},
   "outputs": [
    {
     "name": "stdout",
     "output_type": "stream",
     "text": [
      "features = 1\n",
      "[[0. 0. 0. ... 0. 0. 0.]]\n",
      "max value = 1.0\n"
     ]
    }
   ],
   "source": [
    "# Transpose Array\n",
    "img_array_mms_rs = img_array_mms[np.newaxis,:]\n",
    "print('features = {0}'.format(len(img_array_mms_rs)))\n",
    "print(img_array_mms_rs)\n",
    "print('max value = {0}'.format(np.amax(img_array_mms_rs)))"
   ]
  },
  {
   "cell_type": "code",
   "execution_count": 5,
   "metadata": {},
   "outputs": [],
   "source": [
    "frame = pd.DataFrame(data=img_array_mms_rs)\n",
    "frame.to_csv ('/Users/julioyanes/Desktop/scratch/out/tmind.csv')"
   ]
  },
  {
   "cell_type": "code",
   "execution_count": null,
   "metadata": {},
   "outputs": [],
   "source": []
  }
 ],
 "metadata": {
  "kernelspec": {
   "display_name": "Python 3",
   "language": "python",
   "name": "python3"
  },
  "language_info": {
   "codemirror_mode": {
    "name": "ipython",
    "version": 3
   },
   "file_extension": ".py",
   "mimetype": "text/x-python",
   "name": "python",
   "nbconvert_exporter": "python",
   "pygments_lexer": "ipython3",
   "version": "3.7.3"
  }
 },
 "nbformat": 4,
 "nbformat_minor": 2
}
